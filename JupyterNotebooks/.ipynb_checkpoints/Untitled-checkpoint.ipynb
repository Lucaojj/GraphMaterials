{
 "cells": [
  {
   "cell_type": "code",
   "execution_count": 4,
   "id": "bab53a88",
   "metadata": {},
   "outputs": [],
   "source": [
    "import os\n",
    "os.getcwd()\n",
    "os.chdir('/home/lucasperea/Documents/GithubRep/GraphMaterials/')\n",
    "\n",
    "import pickle\n",
    "import numpy as np\n",
    "import pymatgen\n",
    "from pymatgen.core.structure import Structure\n",
    "from GraphFunc.PageRankFunction import PageRank\n",
    "from GraphFunc.ConexionFunction import Conexion\n",
    "from GraphFunc.ZeoDataframeFunction import ZeoDataframe\n",
    "from GraphFunc.EdgeFileFunction import EdgeFile\n",
    "import seaborn as sns\n",
    "%load_ext autoreload\n",
    "%autoreload 2"
   ]
  },
  {
   "cell_type": "code",
   "execution_count": null,
   "id": "11880b54",
   "metadata": {},
   "outputs": [],
   "source": []
  },
  {
   "cell_type": "code",
   "execution_count": null,
   "id": "7b9f607b",
   "metadata": {},
   "outputs": [],
   "source": [
    "\n",
    "name = 'EDI'\n",
    "\n",
    "cif_path = './CifFiles/' + name + '.cif'\n",
    "lattice_mult = 1\n",
    "\n",
    "\n",
    "nt2_path = './Nt2Files/' + name + '.nt2'\n",
    "\n",
    "bound_path = './BoundFiles/' + name + '.txt'\n",
    "\n",
    "iteration = 100\n",
    "\n",
    "\n",
    "struct = Structure.from_file(cif_path)\n",
    "\n",
    "cell_dim = struct._lattice.abc\n",
    "\n",
    "\n",
    "# Supercell\n",
    "n = lattice_mult\n",
    "supercell_path = './SupercellFiles/' + name + str(n) + '.cif'\n",
    "\n",
    "lattice_vector = [n,n,n]\n",
    "\n",
    "cell_dim = Supercell(cif_path, lattice_vector, supercell_path)\n",
    "\n",
    "multiplier = np.array([1,1,1]) #6.4\n",
    "box = np.array([cell_dim[0], cell_dim[1], cell_dim[2]])\n",
    "\n",
    "edge_table, vertex_table = ZeoDataframe(nt2_path, multiplier, box)\n",
    "\n",
    "# Create a file that describe conexions between nodes\n",
    "path_edge_file = EdgeFile(bound_path, edge_table)\n",
    "\n",
    "# Dictionary used to calulatate the proporcion among the conexion in every node\n",
    "conexion = Conexion(vertex_table, edge_table)\n",
    "\n",
    "# Pagerank algorithm \n",
    "# return an ax with the selected node located \n",
    "info, sum_nodes = PageRank(path_edge_file, conexion, iteration)\n",
    "\n",
    "# LISTs for size pore/connectivity comparison\n",
    "\n",
    "most_connected_node = np.argsort(info)[-1] # index of the most connected node\n",
    "#     info[most_connected_node] # value of the most connected node\n",
    "#     vertex_table.loc[vertex_table.index == most_connected_node, ['min_dist_atom']].values[0]\n",
    "\n",
    "comparison_info[cif_name] = {'most_connected_node':most_connected_node, \n",
    "                             'value_most_con':value_most_con,\n",
    "                            'dist_atom':dist_atom}"
   ]
  }
 ],
 "metadata": {
  "kernelspec": {
   "display_name": "Python 3 (ipykernel)",
   "language": "python",
   "name": "python3"
  },
  "language_info": {
   "codemirror_mode": {
    "name": "ipython",
    "version": 3
   },
   "file_extension": ".py",
   "mimetype": "text/x-python",
   "name": "python",
   "nbconvert_exporter": "python",
   "pygments_lexer": "ipython3",
   "version": "3.8.8"
  }
 },
 "nbformat": 4,
 "nbformat_minor": 5
}
