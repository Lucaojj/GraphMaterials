{
 "cells": [
  {
   "cell_type": "code",
   "execution_count": 9,
   "id": "e822defc",
   "metadata": {},
   "outputs": [
    {
     "name": "stdout",
     "output_type": "stream",
     "text": [
      "The autoreload extension is already loaded. To reload it, use:\n",
      "  %reload_ext autoreload\n"
     ]
    }
   ],
   "source": [
    "import os\n",
    "os.getcwd()\n",
    "os.chdir('/home/lucasperea/Documents/GithubRep/GraphMaterials/')\n",
    "\n",
    "import pickle\n",
    "import numpy as np\n",
    "import pymatgen\n",
    "from pymatgen.core.structure import Structure\n",
    "from GraphFunc.PageRankFunction import PageRank\n",
    "from GraphFunc.ConexionFunction import Conexion\n",
    "from GraphFunc.ZeoDataframeFunction import ZeoDataframe\n",
    "from GraphFunc.EdgeFileFunction import EdgeFile\n",
    "import seaborn as sns\n",
    "%load_ext autoreload\n",
    "%autoreload 2"
   ]
  },
  {
   "cell_type": "code",
   "execution_count": 10,
   "id": "c32db230",
   "metadata": {},
   "outputs": [
    {
     "data": {
      "text/plain": [
       "'/home/lucasperea/Documents/GithubRep/GraphMaterials'"
      ]
     },
     "execution_count": 10,
     "metadata": {},
     "output_type": "execute_result"
    }
   ],
   "source": [
    "os.getcwd()"
   ]
  },
  {
   "cell_type": "code",
   "execution_count": null,
   "id": "547d1300",
   "metadata": {},
   "outputs": [],
   "source": [
    "\n",
    "\n",
    "\n",
    "\n",
    "t = 0\n",
    "for nt2_name in os.listdir('./Nt2Files/')[22:]:\n",
    "    \n",
    "    name = nt2_name.split('.')[0]\n",
    "    \n",
    "    struct = Structure.from_file('./CifFiles/' + name + '.cif')\n",
    "\n",
    "    cell_dim = struct._lattice.abc\n",
    "\n",
    "    # Convert nt2 file into Dataframe objects\n",
    "    multiplier = np.array([1,1,1]) #6.4\n",
    "    box = np.array([cell_dim[0], cell_dim[1], cell_dim[2]])\n",
    "    \n",
    "    nt2_path = './Nt2Files/' + nt2_name\n",
    "\n",
    "    edge_table, vertex_table = ZeoDataframe(nt2_path, multiplier, box)\n",
    "    \n",
    "    \n",
    "    with open('./EdgeTables/' + name + '_edgetable', 'wb') as handle:\n",
    "        pickle.dump(edge_table, handle, protocol=pickle.HIGHEST_PROTOCOL)\n",
    "        \n",
    "    with open('./VertexTables/' + name + '_vertextable', 'wb') as handle:\n",
    "        pickle.dump(vertex_table, handle, protocol=pickle.HIGHEST_PROTOCOL)\n",
    "\n",
    "    t += 1\n",
    "    print(t)"
   ]
  },
  {
   "cell_type": "code",
   "execution_count": null,
   "id": "448c87d5",
   "metadata": {},
   "outputs": [],
   "source": []
  }
 ],
 "metadata": {
  "kernelspec": {
   "display_name": "Python 3 (ipykernel)",
   "language": "python",
   "name": "python3"
  },
  "language_info": {
   "codemirror_mode": {
    "name": "ipython",
    "version": 3
   },
   "file_extension": ".py",
   "mimetype": "text/x-python",
   "name": "python",
   "nbconvert_exporter": "python",
   "pygments_lexer": "ipython3",
   "version": "3.8.8"
  }
 },
 "nbformat": 4,
 "nbformat_minor": 5
}
